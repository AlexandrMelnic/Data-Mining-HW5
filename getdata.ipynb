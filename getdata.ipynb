{
 "cells": [
  {
   "cell_type": "code",
   "execution_count": 26,
   "metadata": {
    "colab": {},
    "colab_type": "code",
    "id": "mdnZ7TpkhC9q"
   },
   "outputs": [],
   "source": [
    "import networkx as nx"
   ]
  },
  {
   "cell_type": "markdown",
   "metadata": {},
   "source": [
    "Data import"
   ]
  },
  {
   "cell_type": "code",
   "execution_count": 27,
   "metadata": {
    "colab": {},
    "colab_type": "code",
    "id": "p3S7O_VehC-M"
   },
   "outputs": [],
   "source": [
    "with open('USA-road-d.CAL.co','r',newline = '\\n') as file:\n",
    "    nodes = file.readlines()\n",
    "with open('USA-road-d.CAL.gr','r',newline = '\\n') as file:\n",
    "    dis_m = file.readlines()\n",
    "with open('USA-road-t.CAL.gr','r',newline = '\\n') as file:\n",
    "    dis_t = file.readlines()\n",
    "    #head = [next(file).splitlines() for x in range(1000)]"
   ]
  },
  {
   "cell_type": "markdown",
   "metadata": {},
   "source": [
    "Data cleaning"
   ]
  },
  {
   "cell_type": "code",
   "execution_count": 28,
   "metadata": {},
   "outputs": [],
   "source": [
    "# the first 6 lines are descriptions of the data\n",
    "nodes = nodes[7:10000]\n",
    "dis_m = dis_m[7:10000]\n",
    "#dis_t = dis_t[7:50000]"
   ]
  },
  {
   "cell_type": "markdown",
   "metadata": {},
   "source": [
    "From the nodes file, we keep only the latitude and longitude of each node."
   ]
  },
  {
   "cell_type": "code",
   "execution_count": 29,
   "metadata": {},
   "outputs": [
    {
     "data": {
      "text/plain": [
       "['-114315309', '34133550']"
      ]
     },
     "execution_count": 29,
     "metadata": {},
     "output_type": "execute_result"
    }
   ],
   "source": [
    "for i in range(len(nodes)):\n",
    "    nodes[i] = nodes[i][:-1]\n",
    "    nodes[i] = list(nodes[i].split())[2:]\n",
    "nodes[0]"
   ]
  },
  {
   "cell_type": "markdown",
   "metadata": {},
   "source": [
    "Latitude and longitude of each node are strings without float point (e.g ''-114318765''). Since we know that longitude and latitude of California and Nevada go from 32.5-42.0\tand 114.0 - 125.0 respectively,  we want to convert that string into a float number in the format : -114.318765. "
   ]
  },
  {
   "cell_type": "code",
   "execution_count": 30,
   "metadata": {},
   "outputs": [
    {
     "data": {
      "text/plain": [
       "[-114.315309, 34.13355]"
      ]
     },
     "execution_count": 30,
     "metadata": {},
     "output_type": "execute_result"
    }
   ],
   "source": [
    "for i in range(len(nodes)):\n",
    "    # just add the comma after the third or second digit\n",
    "    nodes[i][0] = float(nodes[i][0][0:4]+'.'+nodes[i][0][4:])\n",
    "    nodes[i][1] = float(nodes[i][1][0:2]+'.'+nodes[i][1][2:])\n",
    "# at the end we get\n",
    "nodes[0]"
   ]
  },
  {
   "cell_type": "markdown",
   "metadata": {},
   "source": [
    "Clean data in the same way but for edges"
   ]
  },
  {
   "cell_type": "code",
   "execution_count": 31,
   "metadata": {},
   "outputs": [],
   "source": [
    "# every row is in the format, 'starting node' \\t 'ending node' \\t ' distance'\n",
    "for i in range(len(dis_m)):\n",
    "    dis_m[i] = dis_m[i][1:]\n",
    "    #dis_t[i] = dis_t[i][1:]\n",
    "    dis_m[i] = dis_m[i][:-1]\n",
    "    #dis_t[i] = dis_t[i][:-1]    \n",
    "    dis_m[i] = dis_m[i].split()\n",
    "    #dis_t[i] = dis_t[i].split()"
   ]
  },
  {
   "cell_type": "code",
   "execution_count": 32,
   "metadata": {
    "colab": {},
    "colab_type": "code",
    "id": "nFLOtVfYhC-v"
   },
   "outputs": [],
   "source": [
    "g = nx.Graph()\n",
    "# add nodes\n",
    "for i in range(len(nodes)):\n",
    "    # add latitude and longitude as an attribute to each node, in the format of a tuple\n",
    "    g.add_node(i+1, pos = (nodes[i][0], nodes[i][1]) )\n",
    "# add edges with spatial distance only, if you want with time distance then just change to dis_t\n",
    "for i in range(len(dis_m)):\n",
    "    # not every row of dis_m has numbers as entries, there can also be missing values or just\n",
    "    # wrong values. For this reason we use 'try'\n",
    "    try:\n",
    "        if (int(dis_m[i][0]) in g.nodes() and int(dis_m[i][1]) in g.nodes()): \n",
    "            # add as attribute to every edge the distance\n",
    "            g.add_edge(int(dis_m[i][0]), int(dis_m[i][1]), dis = dis_m[i][2])\n",
    "    except ValueError:\n",
    "        continue"
   ]
  }
 ],
 "metadata": {
  "colab": {
   "name": "Untitled.ipynb",
   "provenance": []
  },
  "kernelspec": {
   "display_name": "Python 3",
   "language": "python",
   "name": "python3"
  },
  "language_info": {
   "codemirror_mode": {
    "name": "ipython",
    "version": 3
   },
   "file_extension": ".py",
   "mimetype": "text/x-python",
   "name": "python",
   "nbconvert_exporter": "python",
   "pygments_lexer": "ipython3",
   "version": "3.7.3"
  }
 },
 "nbformat": 4,
 "nbformat_minor": 1
}
