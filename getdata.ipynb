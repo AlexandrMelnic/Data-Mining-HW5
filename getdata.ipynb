{
 "cells": [
  {
   "cell_type": "code",
   "execution_count": 1,
   "metadata": {
    "colab": {},
    "colab_type": "code",
    "id": "mdnZ7TpkhC9q"
   },
   "outputs": [],
   "source": [
    "import networkx as nx"
   ]
  },
  {
   "cell_type": "code",
   "execution_count": 2,
   "metadata": {
    "colab": {},
    "colab_type": "code",
    "id": "p3S7O_VehC-M"
   },
   "outputs": [],
   "source": [
    "with open('USA-road-d.CAL.co','r',newline = '\\n') as file:\n",
    "    nodes = file.readlines()\n",
    "with open('USA-road-d.CAL.gr','r',newline = '\\n') as file:\n",
    "    dis_m = file.readlines()\n",
    "with open('USA-road-t.CAL.gr','r',newline = '\\n') as file:\n",
    "    dis_t = file.readlines()\n",
    "    #head = [next(file).splitlines() for x in range(1000)]"
   ]
  },
  {
   "cell_type": "code",
   "execution_count": 3,
   "metadata": {
    "colab": {},
    "colab_type": "code",
    "id": "h2NsIeTWhC-S"
   },
   "outputs": [],
   "source": [
    "# If you want all the rows then select from 7th row till end\n",
    "nodes = nodes[7:10000]\n",
    "dis_m = dis_m[7:10000]\n",
    "#dis_t = dis_t[7:50000]\n",
    "for i in range(len(nodes)):\n",
    "    nodes[i] = nodes[i][:-1]\n",
    "for i in (range(len(nodes))):\n",
    "    nodes[i] = list(nodes[i].split())[2:]\n",
    "for i in range(len(dis_m)):\n",
    "    dis_m[i] = dis_m[i][1:]\n",
    "    #dis_t[i] = dis_t[i][1:]\n",
    "    dis_m[i] = dis_m[i][:-1]\n",
    "    #dis_t[i] = dis_t[i][:-1]    \n",
    "    \n",
    "for i in range(len(dis_m)):\n",
    "    dis_m[i] = dis_m[i].split()\n",
    "    #dis_t[i] = dis_t[i].split()\n",
    "    \n",
    "\n",
    "for i in range(len(nodes)):\n",
    "    nodes[i][0] = float(nodes[i][0][0:4]+'.'+nodes[i][0][4:])\n",
    "    nodes[i][1] = float(nodes[i][1][0:2]+'.'+nodes[i][1][2:])"
   ]
  },
  {
   "cell_type": "code",
   "execution_count": 5,
   "metadata": {
    "colab": {},
    "colab_type": "code",
    "id": "nFLOtVfYhC-v"
   },
   "outputs": [],
   "source": [
    "g = nx.Graph()\n",
    "# add nodes\n",
    "for i in range(len(nodes)):\n",
    "    g.add_node(i+1, pos = {'lat':nodes[i][0], 'lon': nodes[i][1]} )\n",
    "# add edges with spatial distance only, if you want with time distance then just change to dis_t\n",
    "for i in range(len(dis_m)):\n",
    "    try:\n",
    "        if (int(dis_m[i][0]) in g.nodes() and int(dis_m[i][1]) in g.nodes()): \n",
    "            g.add_edge(int(dis_m[i][0]), int(dis_m[i][1]), dis = {'distance':dis_m[i][2]})\n",
    "    except ValueError:\n",
    "        continue"
   ]
  }
 ],
 "metadata": {
  "colab": {
   "name": "Untitled.ipynb",
   "provenance": []
  },
  "kernelspec": {
   "display_name": "Python 3",
   "language": "python",
   "name": "python3"
  },
  "language_info": {
   "codemirror_mode": {
    "name": "ipython",
    "version": 3
   },
   "file_extension": ".py",
   "mimetype": "text/x-python",
   "name": "python",
   "nbconvert_exporter": "python",
   "pygments_lexer": "ipython3",
   "version": "3.7.3"
  }
 },
 "nbformat": 4,
 "nbformat_minor": 1
}
