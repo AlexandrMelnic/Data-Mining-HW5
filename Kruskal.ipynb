{
 "cells": [
  {
   "cell_type": "markdown",
   "metadata": {},
   "source": [
    "Prende in input una lista di vertici v. Per ora do per scontato che l' MST si possa fare. Considero solo un tipo di distanza e le prendo nel modo in cui avevo impostato il grafo inizialmente, ovvero in \"g.edges[(n,m)]['dis'])\". "
   ]
  },
  {
   "cell_type": "code",
   "execution_count": null,
   "metadata": {},
   "outputs": [],
   "source": [
    "typ = \"distance\"\n",
    "# find all the edges that connect those nodes\n",
    "# ex. nodes v\n",
    "v = [1050691, 1048618, 1048619, 1048620, 1048622, 1048623, 2638, 52, 53, 54, 57]\n",
    "edges =  []\n",
    "we = []\n",
    "for n in v:\n",
    "    for m in v:\n",
    "        # check if m is in n neighborhood\n",
    "        if m in g[n]:\n",
    "            # take the edge\n",
    "            edges.append((n,m))\n",
    "            # take also the weight\n",
    "            if typ == \"distance\":\n",
    "                we.append(int(g.edges[(n,m)]['distance']))\n",
    "            elif typ == \"time\":\n",
    "                we.append(int(g.edges[(n,m)]['time']))\n",
    "            elif typ == \"network\":\n",
    "                we.append(1)"
   ]
  },
  {
   "cell_type": "code",
   "execution_count": null,
   "metadata": {},
   "outputs": [],
   "source": [
    "# since we are using an undirected graph we delete the duplicate edges\n",
    "for e in edges:\n",
    "    for c in edges:\n",
    "        if e[0] == c[1] and e[1] == c[0]:\n",
    "            # both remove the weight and edge\n",
    "            we.pop(edges.index(c))\n",
    "            edges.remove(c)"
   ]
  },
  {
   "cell_type": "code",
   "execution_count": null,
   "metadata": {},
   "outputs": [],
   "source": [
    "# for the Kruskal algorithm we need to sort the weights and according that also the list of edges\n",
    "n_we = sorted(we)\n",
    "n_edges = [None]*len(we)\n",
    "for i in range(len(n_we)):\n",
    "    for j in range(len(we)):\n",
    "        if n_we[i] == we[j]:\n",
    "            n_edges[i] = edges[j]\n",
    "edges = n_edges"
   ]
  },
  {
   "cell_type": "code",
   "execution_count": null,
   "metadata": {},
   "outputs": [],
   "source": [
    "# Kruskal algorithm\n",
    "# list that will contain the mst edges\n",
    "mste = []\n",
    "# the trees dictionary\n",
    "f = {}\n",
    "j = 0\n",
    "# at the beginning every node is a tree\n",
    "for i in v:\n",
    "    f[j] = [i]\n",
    "    j += 1\n",
    "mod_v = len(v)\n",
    "# a mst has |V| - 1 edges, so we loop until this condition is verified\n",
    "while len(mste) != mod_v - 1:\n",
    "    # at every loop we pick one edge from the sorted edges list and delete it, if that edge\n",
    "    # connects 2 different trees then we add it in mste, otherwise just delete it\n",
    "    e = edges[0]\n",
    "    edges.pop(0)\n",
    "    # to check if ad edge connects 2 different trees we need to find the trees that contains\n",
    "    # that edge's nodes\n",
    "    \n",
    "    # here we check the tree i and j, that contain the vertices of the edge\n",
    "    for key in f:\n",
    "        if e[0] in f[key]:\n",
    "            i = key\n",
    "    for key in f:\n",
    "        if e[1] in f[key]:\n",
    "            j = key  \n",
    "    # if the trees are different then we join them\n",
    "    if i!=j:\n",
    "        f[i] = f[i] + f[j]\n",
    "        mste.append(e)\n",
    "        del f[j]"
   ]
  },
  {
   "cell_type": "code",
   "execution_count": null,
   "metadata": {},
   "outputs": [],
   "source": [
    "nodes = list(f.values())[0]\n",
    "# subgraph making \n",
    "subg = nx.Graph()\n",
    "# add nodes\n",
    "for x in nodes:\n",
    "    subg.add_node(x)\n",
    "# add edges\n",
    "for x in mste:\n",
    "    subg.add_edge(x[0], x[1]) "
   ]
  },
  {
   "cell_type": "code",
   "execution_count": null,
   "metadata": {},
   "outputs": [],
   "source": [
    "p = g.nodes[nodes[0]]['pos']\n",
    "m = folium.Map(location = [p[1], p[0]], zoom_start = 12 ) \n",
    "for node in subg.nodes():\n",
    "    p = g.nodes[node]['pos']\n",
    "    folium.CircleMarker(location = [p[1], p[0]], radius = 5,fill = True).add_to(m)\n",
    "for e in subg.edges():\n",
    "    folium.PolyLine(locations = [(g.nodes[e[0]]['pos'][1],g.nodes[e[0]]['pos'][0]), (g.nodes[e[1]]['pos'][1],g.nodes[e[1]]['pos'][0])], \n",
    "                line_opacity = 0.5).add_to(m)  \n",
    "display(m)  "
   ]
  }
 ],
 "metadata": {
  "kernelspec": {
   "display_name": "Python 3",
   "language": "python",
   "name": "python3"
  },
  "language_info": {
   "codemirror_mode": {
    "name": "ipython",
    "version": 3
   },
   "file_extension": ".py",
   "mimetype": "text/x-python",
   "name": "python",
   "nbconvert_exporter": "python",
   "pygments_lexer": "ipython3",
   "version": "3.7.3"
  }
 },
 "nbformat": 4,
 "nbformat_minor": 2
}
